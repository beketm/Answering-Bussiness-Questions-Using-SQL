{
 "cells": [
  {
   "cell_type": "markdown",
   "metadata": {},
   "source": [
    "# Introduction and Schema Diagram¶"
   ]
  },
  {
   "cell_type": "code",
   "execution_count": 1,
   "metadata": {
    "collapsed": false
   },
   "outputs": [
    {
     "data": {
      "text/plain": [
       "'Connected: None@chinook.db'"
      ]
     },
     "execution_count": 1,
     "metadata": {},
     "output_type": "execute_result"
    }
   ],
   "source": [
    "%%capture\n",
    "%load_ext sql\n",
    "%sql sqlite:///chinook.db"
   ]
  },
  {
   "cell_type": "markdown",
   "metadata": {},
   "source": [
    "# Overview of the Data¶"
   ]
  },
  {
   "cell_type": "code",
   "execution_count": 2,
   "metadata": {
    "collapsed": false
   },
   "outputs": [
    {
     "name": "stdout",
     "output_type": "stream",
     "text": [
      "Done.\n"
     ]
    },
    {
     "data": {
      "text/html": [
       "<table>\n",
       "    <tr>\n",
       "        <th>name</th>\n",
       "        <th>type</th>\n",
       "    </tr>\n",
       "    <tr>\n",
       "        <td>album</td>\n",
       "        <td>table</td>\n",
       "    </tr>\n",
       "    <tr>\n",
       "        <td>artist</td>\n",
       "        <td>table</td>\n",
       "    </tr>\n",
       "    <tr>\n",
       "        <td>customer</td>\n",
       "        <td>table</td>\n",
       "    </tr>\n",
       "    <tr>\n",
       "        <td>employee</td>\n",
       "        <td>table</td>\n",
       "    </tr>\n",
       "    <tr>\n",
       "        <td>genre</td>\n",
       "        <td>table</td>\n",
       "    </tr>\n",
       "    <tr>\n",
       "        <td>invoice</td>\n",
       "        <td>table</td>\n",
       "    </tr>\n",
       "    <tr>\n",
       "        <td>invoice_line</td>\n",
       "        <td>table</td>\n",
       "    </tr>\n",
       "    <tr>\n",
       "        <td>media_type</td>\n",
       "        <td>table</td>\n",
       "    </tr>\n",
       "    <tr>\n",
       "        <td>playlist</td>\n",
       "        <td>table</td>\n",
       "    </tr>\n",
       "    <tr>\n",
       "        <td>playlist_track</td>\n",
       "        <td>table</td>\n",
       "    </tr>\n",
       "    <tr>\n",
       "        <td>track</td>\n",
       "        <td>table</td>\n",
       "    </tr>\n",
       "</table>"
      ],
      "text/plain": [
       "[('album', 'table'),\n",
       " ('artist', 'table'),\n",
       " ('customer', 'table'),\n",
       " ('employee', 'table'),\n",
       " ('genre', 'table'),\n",
       " ('invoice', 'table'),\n",
       " ('invoice_line', 'table'),\n",
       " ('media_type', 'table'),\n",
       " ('playlist', 'table'),\n",
       " ('playlist_track', 'table'),\n",
       " ('track', 'table')]"
      ]
     },
     "execution_count": 2,
     "metadata": {},
     "output_type": "execute_result"
    }
   ],
   "source": [
    "%%sql\n",
    "SELECT\n",
    "    name,\n",
    "    type\n",
    "FROM sqlite_master\n",
    "WHERE type IN (\"table\",\"view\");"
   ]
  },
  {
   "cell_type": "code",
   "execution_count": 22,
   "metadata": {
    "collapsed": false,
    "scrolled": true
   },
   "outputs": [
    {
     "name": "stdout",
     "output_type": "stream",
     "text": [
      "Done.\n"
     ]
    },
    {
     "data": {
      "text/html": [
       "<table>\n",
       "    <tr>\n",
       "        <th>customer_id</th>\n",
       "        <th>first_name</th>\n",
       "        <th>last_name</th>\n",
       "        <th>company</th>\n",
       "        <th>address</th>\n",
       "        <th>city</th>\n",
       "        <th>state</th>\n",
       "        <th>country</th>\n",
       "        <th>postal_code</th>\n",
       "        <th>phone</th>\n",
       "        <th>fax</th>\n",
       "        <th>email</th>\n",
       "        <th>support_rep_id</th>\n",
       "        <th>customer_id_1</th>\n",
       "        <th>total</th>\n",
       "    </tr>\n",
       "    <tr>\n",
       "        <td>5</td>\n",
       "        <td>František</td>\n",
       "        <td>Wichterlová</td>\n",
       "        <td>JetBrains s.r.o.</td>\n",
       "        <td>Klanova 9/506</td>\n",
       "        <td>Prague</td>\n",
       "        <td>None</td>\n",
       "        <td>Czech Republic</td>\n",
       "        <td>14700</td>\n",
       "        <td>+420 2 4172 5555</td>\n",
       "        <td>+420 2 4172 5555</td>\n",
       "        <td>frantisekw@jetbrains.com</td>\n",
       "        <td>4</td>\n",
       "        <td>5</td>\n",
       "        <td>144.54000000000002</td>\n",
       "    </tr>\n",
       "</table>"
      ],
      "text/plain": [
       "[(5, 'František', 'Wichterlová', 'JetBrains s.r.o.', 'Klanova 9/506', 'Prague', None, 'Czech Republic', '14700', '+420 2 4172 5555', '+420 2 4172 5555', 'frantisekw@jetbrains.com', 4, 5, 144.54000000000002)]"
      ]
     },
     "execution_count": 22,
     "metadata": {},
     "output_type": "execute_result"
    }
   ],
   "source": [
    "%%sql\n",
    "WITH c_info AS ( \n",
    "    SELECT\n",
    "    customer_id,\n",
    "    SUM(total) total\n",
    "FROM invoice\n",
    "GROUP BY customer_id\n",
    "ORDER BY customer_id\n",
    "), max_buyer AS (\n",
    "    SELECT \n",
    "    customer_id,\n",
    "    MAX(total) total\n",
    "FROM c_info\n",
    ")\n",
    "\n",
    "SELECT \n",
    "    *\n",
    "FROM customer\n",
    "INNER JOIN max_buyer ON customer.customer_id = max_buyer.customer_id;\n",
    "\n"
   ]
  },
  {
   "cell_type": "markdown",
   "metadata": {},
   "source": [
    "# Selecting New Albums to Purchase¶"
   ]
  },
  {
   "cell_type": "code",
   "execution_count": 60,
   "metadata": {
    "collapsed": false
   },
   "outputs": [
    {
     "name": "stdout",
     "output_type": "stream",
     "text": [
      "Done.\n"
     ]
    },
    {
     "data": {
      "text/html": [
       "<table>\n",
       "    <tr>\n",
       "        <th>name</th>\n",
       "        <th>track_sold</th>\n",
       "        <th>percentage_sold</th>\n",
       "    </tr>\n",
       "    <tr>\n",
       "        <td>Rock</td>\n",
       "        <td>561</td>\n",
       "        <td>0.534</td>\n",
       "    </tr>\n",
       "    <tr>\n",
       "        <td>Alternative &amp; Punk</td>\n",
       "        <td>130</td>\n",
       "        <td>0.124</td>\n",
       "    </tr>\n",
       "    <tr>\n",
       "        <td>Metal</td>\n",
       "        <td>124</td>\n",
       "        <td>0.118</td>\n",
       "    </tr>\n",
       "    <tr>\n",
       "        <td>R&amp;B/Soul</td>\n",
       "        <td>53</td>\n",
       "        <td>0.05</td>\n",
       "    </tr>\n",
       "    <tr>\n",
       "        <td>Blues</td>\n",
       "        <td>36</td>\n",
       "        <td>0.034</td>\n",
       "    </tr>\n",
       "    <tr>\n",
       "        <td>Alternative</td>\n",
       "        <td>35</td>\n",
       "        <td>0.033</td>\n",
       "    </tr>\n",
       "    <tr>\n",
       "        <td>Latin</td>\n",
       "        <td>22</td>\n",
       "        <td>0.021</td>\n",
       "    </tr>\n",
       "    <tr>\n",
       "        <td>Pop</td>\n",
       "        <td>22</td>\n",
       "        <td>0.021</td>\n",
       "    </tr>\n",
       "    <tr>\n",
       "        <td>Hip Hop/Rap</td>\n",
       "        <td>20</td>\n",
       "        <td>0.019</td>\n",
       "    </tr>\n",
       "    <tr>\n",
       "        <td>Jazz</td>\n",
       "        <td>14</td>\n",
       "        <td>0.013</td>\n",
       "    </tr>\n",
       "    <tr>\n",
       "        <td>Easy Listening</td>\n",
       "        <td>13</td>\n",
       "        <td>0.012</td>\n",
       "    </tr>\n",
       "    <tr>\n",
       "        <td>Reggae</td>\n",
       "        <td>6</td>\n",
       "        <td>0.006</td>\n",
       "    </tr>\n",
       "    <tr>\n",
       "        <td>Electronica/Dance</td>\n",
       "        <td>5</td>\n",
       "        <td>0.005</td>\n",
       "    </tr>\n",
       "    <tr>\n",
       "        <td>Classical</td>\n",
       "        <td>4</td>\n",
       "        <td>0.004</td>\n",
       "    </tr>\n",
       "    <tr>\n",
       "        <td>Heavy Metal</td>\n",
       "        <td>3</td>\n",
       "        <td>0.003</td>\n",
       "    </tr>\n",
       "    <tr>\n",
       "        <td>Soundtrack</td>\n",
       "        <td>2</td>\n",
       "        <td>0.002</td>\n",
       "    </tr>\n",
       "    <tr>\n",
       "        <td>TV Shows</td>\n",
       "        <td>1</td>\n",
       "        <td>0.001</td>\n",
       "    </tr>\n",
       "</table>"
      ],
      "text/plain": [
       "[('Rock', 561, 0.534),\n",
       " ('Alternative & Punk', 130, 0.124),\n",
       " ('Metal', 124, 0.118),\n",
       " ('R&B/Soul', 53, 0.05),\n",
       " ('Blues', 36, 0.034),\n",
       " ('Alternative', 35, 0.033),\n",
       " ('Latin', 22, 0.021),\n",
       " ('Pop', 22, 0.021),\n",
       " ('Hip Hop/Rap', 20, 0.019),\n",
       " ('Jazz', 14, 0.013),\n",
       " ('Easy Listening', 13, 0.012),\n",
       " ('Reggae', 6, 0.006),\n",
       " ('Electronica/Dance', 5, 0.005),\n",
       " ('Classical', 4, 0.004),\n",
       " ('Heavy Metal', 3, 0.003),\n",
       " ('Soundtrack', 2, 0.002),\n",
       " ('TV Shows', 1, 0.001)]"
      ]
     },
     "execution_count": 60,
     "metadata": {},
     "output_type": "execute_result"
    }
   ],
   "source": [
    "%%sql\n",
    "WITH cus_usa AS \n",
    "    (\n",
    "    SELECT \n",
    "        c.customer_id customer_id,\n",
    "        c.country country,\n",
    "        i.invoice_id invoice_id,\n",
    "        il.track_id track_id,\n",
    "        g.name name\n",
    "    FROM customer c\n",
    "    INNER JOIN invoice i ON i.customer_id = c.customer_id\n",
    "    INNER JOIN invoice_line il ON il.invoice_id = i.invoice_id\n",
    "    INNER JOIN track t ON il.track_id = t.track_id\n",
    "    INNER JOIN genre g ON t.genre_id = g.genre_id\n",
    "    WHERE c.country = \"USA\"\n",
    "    )\n",
    "\n",
    "SELECT \n",
    "    name,\n",
    "    COUNT(*) track_sold,\n",
    "    ROUND(CAST(COUNT(*) AS FLOAT) / (\n",
    "                SELECT \n",
    "                COUNT(*)\n",
    "                FROM cus_usa\n",
    "    ), 3) percentage_sold\n",
    "FROM cus_usa\n",
    "GROUP BY name\n",
    "ORDER BY 2 DESC;\n"
   ]
  },
  {
   "cell_type": "markdown",
   "metadata": {},
   "source": [
    "Based on the sales of tracks across different genres in the USA, we should purchase the new albums by the following artists:\n",
    "- Red Tone (Punk)\n",
    "- Slim Jim Bites (Blues)\n",
    "- Meteor and the Girls (Pop)\n",
    "\n",
    "It's good to note that combined, these three genres only make up only 17% of total sales, so we should pay attention to artists and albums from the 'rock' genre, which accounts for 53% of sales."
   ]
  },
  {
   "cell_type": "markdown",
   "metadata": {},
   "source": [
    "# Analyzing Employee Sales Performance"
   ]
  },
  {
   "cell_type": "code",
   "execution_count": 67,
   "metadata": {
    "collapsed": false
   },
   "outputs": [
    {
     "name": "stdout",
     "output_type": "stream",
     "text": [
      "Done.\n"
     ]
    },
    {
     "data": {
      "text/html": [
       "<table>\n",
       "    <tr>\n",
       "        <th>name</th>\n",
       "        <th>hire_date</th>\n",
       "        <th>total</th>\n",
       "    </tr>\n",
       "    <tr>\n",
       "        <td>Jane Peacock</td>\n",
       "        <td>2017-04-01 00:00:00</td>\n",
       "        <td>1731.5100000000039</td>\n",
       "    </tr>\n",
       "    <tr>\n",
       "        <td>Margaret Park</td>\n",
       "        <td>2017-05-03 00:00:00</td>\n",
       "        <td>1584.0000000000034</td>\n",
       "    </tr>\n",
       "    <tr>\n",
       "        <td>Steve Johnson</td>\n",
       "        <td>2017-10-17 00:00:00</td>\n",
       "        <td>1393.920000000002</td>\n",
       "    </tr>\n",
       "</table>"
      ],
      "text/plain": [
       "[('Jane Peacock', '2017-04-01 00:00:00', 1731.5100000000039),\n",
       " ('Margaret Park', '2017-05-03 00:00:00', 1584.0000000000034),\n",
       " ('Steve Johnson', '2017-10-17 00:00:00', 1393.920000000002)]"
      ]
     },
     "execution_count": 67,
     "metadata": {},
     "output_type": "execute_result"
    }
   ],
   "source": [
    "%%sql\n",
    "WITH sales_per_customer AS (\n",
    "    SELECT \n",
    "            c.*,\n",
    "            i.total total\n",
    "    FROM customer c\n",
    "    INNER JOIN invoice i ON i.customer_id = c.customer_id\n",
    ")\n",
    "\n",
    "SELECT \n",
    "        e.first_name || \" \" || e.last_name name,\n",
    "        e.hire_date hire_date,\n",
    "        SUM(spc.total) total\n",
    "FROM employee e\n",
    "INNER JOIN sales_per_customer spc ON spc.support_rep_id = e.employee_id\n",
    "GROUP BY 1\n",
    "ORDER BY total DESC;"
   ]
  },
  {
   "cell_type": "markdown",
   "metadata": {},
   "source": [
    "From the sales support agent data, we can notice that the earlier employee was hired the more sales he/she made."
   ]
  },
  {
   "cell_type": "markdown",
   "metadata": {},
   "source": [
    "# Analyzing Sales by Country¶"
   ]
  },
  {
   "cell_type": "code",
   "execution_count": 17,
   "metadata": {
    "collapsed": false,
    "scrolled": false
   },
   "outputs": [
    {
     "name": "stdout",
     "output_type": "stream",
     "text": [
      "Done.\n"
     ]
    },
    {
     "data": {
      "text/html": [
       "<table>\n",
       "    <tr>\n",
       "        <th>country</th>\n",
       "        <th>customers</th>\n",
       "        <th>total_sales</th>\n",
       "        <th>average_order</th>\n",
       "        <th>customer_lifetime_value</th>\n",
       "    </tr>\n",
       "    <tr>\n",
       "        <td>Czech Republic</td>\n",
       "        <td>2</td>\n",
       "        <td>273.24000000000103</td>\n",
       "        <td>9.108000000000034</td>\n",
       "        <td>136.62000000000052</td>\n",
       "    </tr>\n",
       "    <tr>\n",
       "        <td>United Kingdom</td>\n",
       "        <td>3</td>\n",
       "        <td>245.52000000000078</td>\n",
       "        <td>8.768571428571457</td>\n",
       "        <td>81.84000000000026</td>\n",
       "    </tr>\n",
       "    <tr>\n",
       "        <td>India</td>\n",
       "        <td>2</td>\n",
       "        <td>183.1500000000002</td>\n",
       "        <td>8.72142857142858</td>\n",
       "        <td>91.5750000000001</td>\n",
       "    </tr>\n",
       "    <tr>\n",
       "        <td>Germany</td>\n",
       "        <td>4</td>\n",
       "        <td>334.6200000000016</td>\n",
       "        <td>8.161463414634186</td>\n",
       "        <td>83.6550000000004</td>\n",
       "    </tr>\n",
       "    <tr>\n",
       "        <td>USA</td>\n",
       "        <td>13</td>\n",
       "        <td>1040.490000000008</td>\n",
       "        <td>7.942671755725252</td>\n",
       "        <td>80.03769230769292</td>\n",
       "    </tr>\n",
       "    <tr>\n",
       "        <td>France</td>\n",
       "        <td>5</td>\n",
       "        <td>389.0700000000021</td>\n",
       "        <td>7.781400000000042</td>\n",
       "        <td>77.81400000000042</td>\n",
       "    </tr>\n",
       "    <tr>\n",
       "        <td>Canada</td>\n",
       "        <td>8</td>\n",
       "        <td>535.5900000000034</td>\n",
       "        <td>7.047236842105309</td>\n",
       "        <td>66.94875000000043</td>\n",
       "    </tr>\n",
       "    <tr>\n",
       "        <td>Brazil</td>\n",
       "        <td>5</td>\n",
       "        <td>427.68000000000245</td>\n",
       "        <td>7.011147540983647</td>\n",
       "        <td>85.53600000000048</td>\n",
       "    </tr>\n",
       "    <tr>\n",
       "        <td>Portugal</td>\n",
       "        <td>2</td>\n",
       "        <td>185.13000000000022</td>\n",
       "        <td>6.3837931034482835</td>\n",
       "        <td>92.56500000000011</td>\n",
       "    </tr>\n",
       "    <tr>\n",
       "        <td>Other</td>\n",
       "        <td>15</td>\n",
       "        <td>1094.9400000000085</td>\n",
       "        <td>7.448571428571486</td>\n",
       "        <td>72.99600000000056</td>\n",
       "    </tr>\n",
       "</table>"
      ],
      "text/plain": [
       "[('Czech Republic', 2, 273.24000000000103, 9.108000000000034, 136.62000000000052),\n",
       " ('United Kingdom', 3, 245.52000000000078, 8.768571428571457, 81.84000000000026),\n",
       " ('India', 2, 183.1500000000002, 8.72142857142858, 91.5750000000001),\n",
       " ('Germany', 4, 334.6200000000016, 8.161463414634186, 83.6550000000004),\n",
       " ('USA', 13, 1040.490000000008, 7.942671755725252, 80.03769230769292),\n",
       " ('France', 5, 389.0700000000021, 7.781400000000042, 77.81400000000042),\n",
       " ('Canada', 8, 535.5900000000034, 7.047236842105309, 66.94875000000043),\n",
       " ('Brazil', 5, 427.68000000000245, 7.011147540983647, 85.53600000000048),\n",
       " ('Portugal', 2, 185.13000000000022, 6.3837931034482835, 92.56500000000011),\n",
       " ('Other', 15, 1094.9400000000085, 7.448571428571486, 72.99600000000056)]"
      ]
     },
     "execution_count": 17,
     "metadata": {},
     "output_type": "execute_result"
    }
   ],
   "source": [
    "%%sql\n",
    "\n",
    "WITH country_or_other AS\n",
    "    (\n",
    "     SELECT\n",
    "       CASE\n",
    "           WHEN (\n",
    "                 SELECT count(*)\n",
    "                 FROM customer\n",
    "                 where country = c.country\n",
    "                ) = 1 THEN \"Other\"\n",
    "           ELSE c.country\n",
    "       END AS country,\n",
    "       c.customer_id,\n",
    "       il.*\n",
    "     FROM invoice_line il\n",
    "     INNER JOIN invoice i ON i.invoice_id = il.invoice_id\n",
    "     INNER JOIN customer c ON c.customer_id = i.customer_id\n",
    "    )\n",
    "    \n",
    "\n",
    "SELECT \n",
    "        country,\n",
    "        customers,\n",
    "        total_sales,\n",
    "        average_order,\n",
    "        customer_lifetime_value\n",
    "FROM (\n",
    "    SELECT\n",
    "        country,\n",
    "        COUNT(DISTINCT customer_id) customers,\n",
    "        SUM(unit_price) total_sales,\n",
    "        SUM(unit_price) / COUNT(DISTINCT customer_id) customer_lifetime_value,\n",
    "        SUM(unit_price) / COUNT(DISTINCT invoice_id) average_order,\n",
    "        CASE\n",
    "            WHEN country = \"Other\" THEN 1\n",
    "            ELSE 0\n",
    "        END AS sort\n",
    "    FROM country_or_other\n",
    "    GROUP BY country\n",
    "    ORDER BY sort, average_order DESC\n",
    "     );\n"
   ]
  },
  {
   "cell_type": "markdown",
   "metadata": {},
   "source": [
    "Based on the data, we see that following countries have potential to grow:\n",
    "    - Czech Republic;\n",
    "    - United Kingdom;\n",
    "    - India;\n",
    "But we need to be cautious before running any major campaign since sample size is too small."
   ]
  },
  {
   "cell_type": "markdown",
   "metadata": {},
   "source": [
    "# Albums vs Individual Tracks¶"
   ]
  },
  {
   "cell_type": "code",
   "execution_count": 59,
   "metadata": {
    "collapsed": false
   },
   "outputs": [
    {
     "name": "stdout",
     "output_type": "stream",
     "text": [
      "Done.\n"
     ]
    },
    {
     "data": {
      "text/html": [
       "<table>\n",
       "    <tr>\n",
       "        <th>album_purchase</th>\n",
       "        <th>number</th>\n",
       "        <th>percentage</th>\n",
       "    </tr>\n",
       "    <tr>\n",
       "        <td>no</td>\n",
       "        <td>500</td>\n",
       "        <td>0.8143322475570033</td>\n",
       "    </tr>\n",
       "    <tr>\n",
       "        <td>yes</td>\n",
       "        <td>114</td>\n",
       "        <td>0.18566775244299674</td>\n",
       "    </tr>\n",
       "</table>"
      ],
      "text/plain": [
       "[('no', 500, 0.8143322475570033), ('yes', 114, 0.18566775244299674)]"
      ]
     },
     "execution_count": 59,
     "metadata": {},
     "output_type": "execute_result"
    }
   ],
   "source": [
    "%%sql\n",
    "WITH \n",
    "    invoice_first_track AS \n",
    "    (\n",
    "    SELECT \n",
    "            invoice_id,\n",
    "            MIN(track_id) track_id\n",
    "    FROM invoice_line\n",
    "    GROUP BY 1\n",
    "    )\n",
    "SELECT \n",
    "        album_purchase,\n",
    "        COUNT(album_purchase) number,\n",
    "        CAST(COUNT(album_purchase) AS FLOAT) / (SELECT COUNT(*)\n",
    "                                             FROM invoice) percentage \n",
    "FROM (\n",
    "        SELECT \n",
    "            CASE\n",
    "                WHEN (\n",
    "                    SELECT track_id FROM track\n",
    "                    WHERE album_id = (\n",
    "                                        SELECT album_id FROM track\n",
    "                                        WHERE track_id = ifs.track_id\n",
    "                                    )\n",
    "                    EXCEPT\n",
    "                    SELECT track_id FROM invoice_line\n",
    "                    WHERE invoice_id = ifs.invoice_id\n",
    "                    ) IS NULL\n",
    "                    AND\n",
    "                    (\n",
    "                    SELECT track_id FROM invoice_line\n",
    "                    WHERE invoice_id = ifs.invoice_id\n",
    "                    EXCEPT\n",
    "                    SELECT track_id FROM track\n",
    "                    WHERE album_id = (\n",
    "                                        SELECT album_id FROM track\n",
    "                                        WHERE track_id = ifs.track_id\n",
    "                                    )\n",
    "                    ) IS NULL\n",
    "            THEN \"yes\"\n",
    "            ELSE \"no\"\n",
    "        END AS album_purchase\n",
    "        FROM invoice_first_track ifs\n",
    "     )\n",
    "GROUP BY album_purchase;\n",
    "\n"
   ]
  },
  {
   "cell_type": "markdown",
   "metadata": {},
   "source": [
    "Album purchase is only 18.6 percent. The Chinook should keep buying selected individual songs from albums rather than whole albums. "
   ]
  },
  {
   "cell_type": "markdown",
   "metadata": {},
   "source": [
    "# Popular artists in playlists"
   ]
  },
  {
   "cell_type": "code",
   "execution_count": 89,
   "metadata": {
    "collapsed": false
   },
   "outputs": [
    {
     "name": "stdout",
     "output_type": "stream",
     "text": [
      "Done.\n"
     ]
    },
    {
     "data": {
      "text/html": [
       "<table>\n",
       "    <tr>\n",
       "        <th>artist</th>\n",
       "        <th>number</th>\n",
       "    </tr>\n",
       "    <tr>\n",
       "        <td>Eugene Ormandy</td>\n",
       "        <td>6</td>\n",
       "    </tr>\n",
       "    <tr>\n",
       "        <td>Academy of St. Martin in the Fields &amp; Sir Neville Marriner</td>\n",
       "        <td>5</td>\n",
       "    </tr>\n",
       "    <tr>\n",
       "        <td>Berliner Philharmoniker &amp; Herbert Von Karajan</td>\n",
       "        <td>5</td>\n",
       "    </tr>\n",
       "    <tr>\n",
       "        <td>English Concert &amp; Trevor Pinnock</td>\n",
       "        <td>5</td>\n",
       "    </tr>\n",
       "    <tr>\n",
       "        <td>The King&#x27;s Singers</td>\n",
       "        <td>5</td>\n",
       "    </tr>\n",
       "    <tr>\n",
       "        <td>Academy of St. Martin in the Fields, Sir Neville Marriner &amp; Thurston Dart</td>\n",
       "        <td>4</td>\n",
       "    </tr>\n",
       "    <tr>\n",
       "        <td>Adrian Leaper &amp; Doreen de Feis</td>\n",
       "        <td>4</td>\n",
       "    </tr>\n",
       "    <tr>\n",
       "        <td>Alberto Turco &amp; Nova Schola Gregoriana</td>\n",
       "        <td>4</td>\n",
       "    </tr>\n",
       "    <tr>\n",
       "        <td>Antal Doráti &amp; London Symphony Orchestra</td>\n",
       "        <td>4</td>\n",
       "    </tr>\n",
       "    <tr>\n",
       "        <td>Barry Wordsworth &amp; BBC Concert Orchestra</td>\n",
       "        <td>4</td>\n",
       "    </tr>\n",
       "</table>"
      ],
      "text/plain": [
       "[('Eugene Ormandy', 6),\n",
       " ('Academy of St. Martin in the Fields & Sir Neville Marriner', 5),\n",
       " ('Berliner Philharmoniker & Herbert Von Karajan', 5),\n",
       " ('English Concert & Trevor Pinnock', 5),\n",
       " (\"The King's Singers\", 5),\n",
       " ('Academy of St. Martin in the Fields, Sir Neville Marriner & Thurston Dart', 4),\n",
       " ('Adrian Leaper & Doreen de Feis', 4),\n",
       " ('Alberto Turco & Nova Schola Gregoriana', 4),\n",
       " ('Antal Doráti & London Symphony Orchestra', 4),\n",
       " ('Barry Wordsworth & BBC Concert Orchestra', 4)]"
      ]
     },
     "execution_count": 89,
     "metadata": {},
     "output_type": "execute_result"
    }
   ],
   "source": [
    "%%sql\n",
    "WITH \n",
    "    play_info AS \n",
    "    (\n",
    "    SELECT\n",
    "            ar.name artist,\n",
    "            COUNT(DISTINCT p.name) number\n",
    "            \n",
    "    FROM playlist p\n",
    "    INNER JOIN playlist_track pl ON pl.playlist_id = p.playlist_id\n",
    "    INNER JOIN track t ON t.track_id = pl.track_id\n",
    "    INNER JOIN album al ON al.album_id = t.album_id\n",
    "    INNER JOIN artist ar ON al.artist_id = ar.artist_id\n",
    "    GROUP BY  artist\n",
    "    )\n",
    "\n",
    "SELECT *\n",
    "FROM play_info\n",
    "ORDER BY 2 DESC\n",
    "LIMIT 10;\n",
    "\n"
   ]
  },
  {
   "cell_type": "markdown",
   "metadata": {},
   "source": [
    "Eugene Ormandy is the most popular artist in playlists. The different kinds of playlists represent the versatility in the kind of music produced by an artist.\n",
    "\n",
    "Let's see if the most popular artist in playlists is the best selling artist for Chinook. To do this, we would need invoice_line, track, album, and artist tables (refer schema)."
   ]
  },
  {
   "cell_type": "code",
   "execution_count": 96,
   "metadata": {
    "collapsed": false,
    "scrolled": true
   },
   "outputs": [
    {
     "name": "stdout",
     "output_type": "stream",
     "text": [
      "Done.\n"
     ]
    },
    {
     "data": {
      "text/html": [
       "<table>\n",
       "    <tr>\n",
       "        <th>artist_name</th>\n",
       "        <th>no_of_tracks</th>\n",
       "        <th>genre</th>\n",
       "    </tr>\n",
       "    <tr>\n",
       "        <td>Queen</td>\n",
       "        <td>192</td>\n",
       "        <td>Rock</td>\n",
       "    </tr>\n",
       "    <tr>\n",
       "        <td>Jimi Hendrix</td>\n",
       "        <td>187</td>\n",
       "        <td>Rock</td>\n",
       "    </tr>\n",
       "    <tr>\n",
       "        <td>Nirvana</td>\n",
       "        <td>130</td>\n",
       "        <td>Rock</td>\n",
       "    </tr>\n",
       "    <tr>\n",
       "        <td>Red Hot Chili Peppers</td>\n",
       "        <td>130</td>\n",
       "        <td>Rock</td>\n",
       "    </tr>\n",
       "    <tr>\n",
       "        <td>Pearl Jam</td>\n",
       "        <td>129</td>\n",
       "        <td>Rock</td>\n",
       "    </tr>\n",
       "    <tr>\n",
       "        <td>AC/DC</td>\n",
       "        <td>124</td>\n",
       "        <td>Rock</td>\n",
       "    </tr>\n",
       "    <tr>\n",
       "        <td>Guns N&#x27; Roses</td>\n",
       "        <td>124</td>\n",
       "        <td>Metal</td>\n",
       "    </tr>\n",
       "    <tr>\n",
       "        <td>Foo Fighters</td>\n",
       "        <td>121</td>\n",
       "        <td>Rock</td>\n",
       "    </tr>\n",
       "    <tr>\n",
       "        <td>The Rolling Stones</td>\n",
       "        <td>117</td>\n",
       "        <td>Rock</td>\n",
       "    </tr>\n",
       "    <tr>\n",
       "        <td>Metallica</td>\n",
       "        <td>106</td>\n",
       "        <td>Metal</td>\n",
       "    </tr>\n",
       "</table>"
      ],
      "text/plain": [
       "[('Queen', 192, 'Rock'),\n",
       " ('Jimi Hendrix', 187, 'Rock'),\n",
       " ('Nirvana', 130, 'Rock'),\n",
       " ('Red Hot Chili Peppers', 130, 'Rock'),\n",
       " ('Pearl Jam', 129, 'Rock'),\n",
       " ('AC/DC', 124, 'Rock'),\n",
       " (\"Guns N' Roses\", 124, 'Metal'),\n",
       " ('Foo Fighters', 121, 'Rock'),\n",
       " ('The Rolling Stones', 117, 'Rock'),\n",
       " ('Metallica', 106, 'Metal')]"
      ]
     },
     "execution_count": 96,
     "metadata": {},
     "output_type": "execute_result"
    }
   ],
   "source": [
    "%%sql\n",
    "SELECT\n",
    "    ar.name artist_name,\n",
    "    COUNT(*) no_of_tracks,\n",
    "    g.name genre\n",
    "FROM invoice_line il\n",
    "INNER JOIN track t ON t.track_id = il.track_id\n",
    "INNER JOIN album al ON al.album_id = t.album_id\n",
    "INNER JOIN artist ar ON al.artist_id = ar.artist_id\n",
    "INNER JOIN genre g ON t.genre_id = g.genre_id \n",
    "GROUP BY artist_name\n",
    "ORDER BY no_of_tracks DESC\n",
    "LIMIT 10;"
   ]
  },
  {
   "cell_type": "markdown",
   "metadata": {},
   "source": [
    "The sales are mostly dominated by rock bands, which is not surprising based on query 1. Popularity is a metric, and can be interpreted in different ways based on the information need. As far as sales are concerned, genre seems to affect the sales more than versatility/ playlists."
   ]
  },
  {
   "cell_type": "markdown",
   "metadata": {},
   "source": [
    "# Protected vs Non-protected media types¶"
   ]
  },
  {
   "cell_type": "code",
   "execution_count": 20,
   "metadata": {
    "collapsed": false
   },
   "outputs": [
    {
     "name": "stdout",
     "output_type": "stream",
     "text": [
      "Done.\n"
     ]
    },
    {
     "data": {
      "text/html": [
       "<table>\n",
       "    <tr>\n",
       "        <th>protected</th>\n",
       "        <th>number</th>\n",
       "        <th>percent</th>\n",
       "    </tr>\n",
       "    <tr>\n",
       "        <td>no</td>\n",
       "        <td>1652</td>\n",
       "        <td>91.47</td>\n",
       "    </tr>\n",
       "    <tr>\n",
       "        <td>yes</td>\n",
       "        <td>154</td>\n",
       "        <td>8.53</td>\n",
       "    </tr>\n",
       "</table>"
      ],
      "text/plain": [
       "[('no', 1652, 91.47), ('yes', 154, 8.53)]"
      ]
     },
     "execution_count": 20,
     "metadata": {},
     "output_type": "execute_result"
    }
   ],
   "source": [
    "%%sql\n",
    "WITH \n",
    "    track_media AS\n",
    "    (\n",
    "    SELECT \n",
    "        il.track_id,\n",
    "        mt.name media_type\n",
    "    FROM invoice_line il\n",
    "    INNER JOIN track t ON t.track_id = il.track_id\n",
    "    INNER JOIN media_type mt ON mt.media_type_id = t.media_type_id \n",
    "    ),\n",
    "    \n",
    "    protected AS \n",
    "    (\n",
    "    SELECT *,\n",
    "        CASE\n",
    "            WHEN media_type LIKE \"%Protected%\" THEN \"yes\"\n",
    "            ELSE \"no\"\n",
    "        END AS protected\n",
    "    FROM track_media\n",
    "    )\n",
    "    \n",
    "SELECT \n",
    "    protected,\n",
    "    COUNT(DISTINCT track_id) number,\n",
    "    ROUND(CAST(COUNT(DISTINCT track_id) AS FLOAT) * 100 / (SELECT COUNT(DISTINCT track_id)\n",
    "                                                FROM invoice_line), 2) percent\n",
    "FROM protected\n",
    "GROUP BY 1"
   ]
  },
  {
   "cell_type": "markdown",
   "metadata": {},
   "source": [
    "Out of all the unique tracks sold (1806 tracks) by the store, ~91% comprises of unprotected media."
   ]
  }
 ],
 "metadata": {
  "kernelspec": {
   "display_name": "Python 3",
   "language": "python",
   "name": "python3"
  },
  "language_info": {
   "codemirror_mode": {
    "name": "ipython",
    "version": 3
   },
   "file_extension": ".py",
   "mimetype": "text/x-python",
   "name": "python",
   "nbconvert_exporter": "python",
   "pygments_lexer": "ipython3",
   "version": "3.4.3"
  }
 },
 "nbformat": 4,
 "nbformat_minor": 2
}
